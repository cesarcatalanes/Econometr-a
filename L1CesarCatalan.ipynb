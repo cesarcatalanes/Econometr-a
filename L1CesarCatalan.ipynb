{
 "cells": [
  {
   "cell_type": "markdown",
   "id": "a1195408-2342-4ec3-8b77-c0858082af0d",
   "metadata": {},
   "source": [
    "## Ejercicio 1\n"
   ]
  },
  {
   "cell_type": "code",
   "execution_count": 8,
   "id": "a787459a-1053-4cab-b15e-50f2181d9179",
   "metadata": {},
   "outputs": [
    {
     "name": "stdin",
     "output_type": "stream",
     "text": [
      "Ingresar tiempo en segundos:  5000\n"
     ]
    },
    {
     "name": "stdout",
     "output_type": "stream",
     "text": [
      "Horas: 1, Minutos: 23, Segundos: 20\n"
     ]
    }
   ],
   "source": [
    "def conversion_tiempo(segundos):\n",
    "    horas = segundos // 3600\n",
    "    minutos = (segundos % 3600) // 60\n",
    "    restantes = segundos % 60\n",
    "    print(f\"Horas: {horas}, Minutos: {minutos}, Segundos: {restantes}\")\n",
    "segundos=int(input(\"Ingresar tiempo en segundos: \"))\n",
    "\n",
    "conversion_tiempo(segundos)\n",
    "    "
   ]
  },
  {
   "cell_type": "markdown",
   "id": "e7f74676-4934-420c-953e-b4e921b8aa9b",
   "metadata": {},
   "source": [
    "## Ejercicio 2"
   ]
  },
  {
   "cell_type": "code",
   "execution_count": 20,
   "id": "4e707bc6-1a66-4031-8463-5adcd4697e58",
   "metadata": {
    "scrolled": true
   },
   "outputs": [
    {
     "name": "stdin",
     "output_type": "stream",
     "text": [
      "Ingrese el día de su nacimiento:  30\n",
      "Ingrese el mes de su nacimiento:  12\n",
      "Ingrese el año de su nacimiento:  1998\n"
     ]
    },
    {
     "name": "stdout",
     "output_type": "stream",
     "text": [
      "Edad: 25 años, 10 meses, 10 días\n"
     ]
    }
   ],
   "source": [
    "from datetime import date\n",
    "\n",
    "def calculo_edad(d, m, yyyy):\n",
    "    nacimiento = datetime(yyyy, m, d)\n",
    "    hoy = date.today()\n",
    "    \n",
    "    # Calcular diferencia en años, meses y días\n",
    "    yyyy = hoy.year - nacimiento.year\n",
    "    m = hoy.month - nacimiento.month\n",
    "    d = hoy.day - nacimiento.day\n",
    "    \n",
    "    if d < 0:\n",
    "        d += 30\n",
    "        m -= 1\n",
    "        \n",
    "    if m < 0:\n",
    "        yyyy -= 1\n",
    "        m += 12\n",
    "    \n",
    "    print(f\"Edad: {yyyy} años, {m} meses, {d} días\")\n",
    "\n",
    "dia = int(input(\"Ingrese el día de su nacimiento: \"))\n",
    "mes = int(input(\"Ingrese el mes de su nacimiento: \"))\n",
    "anio = int(input(\"Ingrese el año de su nacimiento: \"))\n",
    "\n",
    "calculo_edad(dia, mes, anio)\n"
   ]
  },
  {
   "cell_type": "markdown",
   "id": "f9da2e74-469f-4de8-b8c5-f2b9e8e67feb",
   "metadata": {},
   "source": [
    "## Ejercicio 3"
   ]
  },
  {
   "cell_type": "code",
   "execution_count": 17,
   "id": "1eff2f1e-bf58-45a0-9542-cf47db49d294",
   "metadata": {},
   "outputs": [
    {
     "name": "stdout",
     "output_type": "stream",
     "text": [
      "102040570\n"
     ]
    }
   ],
   "source": [
    "def tupla_to_string(tupla):\n",
    "    return ''.join(map(str, tupla))\n",
    "\n",
    "entrada = tupla_to_string((10,20,40,5,70))\n",
    "salida = tupla_to_string(entrada)\n",
    "print(salida)  "
   ]
  },
  {
   "cell_type": "markdown",
   "id": "487c4499-f152-412e-bea8-6d1f2350c4dd",
   "metadata": {},
   "source": [
    "## Ejercicio 4"
   ]
  },
  {
   "cell_type": "code",
   "execution_count": 19,
   "id": "d46d68df-dd34-4b82-a0ea-52d03eeb724a",
   "metadata": {},
   "outputs": [
    {
     "name": "stdout",
     "output_type": "stream",
     "text": [
      "[('X',), ('a', 'b'), ('a', 'b', 'c'), ('d',)]\n"
     ]
    }
   ],
   "source": [
    "def del_empty_tuplas(lista_tuplas):\n",
    "    return [tupla for tupla in lista_tuplas if tupla]\n",
    "\n",
    "entrada = [(), (), ('X',), ('a', 'b'), ('a', 'b', 'c'), ('d',)]\n",
    "salida = del_empty_tuplas(entrada)\n",
    "print(salida)  "
   ]
  },
  {
   "cell_type": "code",
   "execution_count": null,
   "id": "35de3d03-8845-4a7d-80be-7a5dcc97ef05",
   "metadata": {},
   "outputs": [],
   "source": []
  }
 ],
 "metadata": {
  "kernelspec": {
   "display_name": "Python 3 (ipykernel)",
   "language": "python",
   "name": "python3"
  },
  "language_info": {
   "codemirror_mode": {
    "name": "ipython",
    "version": 3
   },
   "file_extension": ".py",
   "mimetype": "text/x-python",
   "name": "python",
   "nbconvert_exporter": "python",
   "pygments_lexer": "ipython3",
   "version": "3.12.7"
  }
 },
 "nbformat": 4,
 "nbformat_minor": 5
}
